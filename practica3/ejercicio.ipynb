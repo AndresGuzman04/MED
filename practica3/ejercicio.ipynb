{
 "cells": [
  {
   "cell_type": "code",
   "execution_count": null,
   "metadata": {},
   "outputs": [],
   "source": [
    "lista = []\n",
    "def menu():\n",
    "    print(\"A) Agregar un numero a la lista\")\n",
    "    print(\"B) Agregar un numero a la lista segun su posicion\")\n",
    "    print(\"C) Ver longitud de la lista\")\n",
    "    print(\"D) Eliminar el ultimo numero\")\n",
    "    print(\"E) Eliminar un numero\")\n",
    "    print(\"F) Contar repeticiones de un numero\")\n",
    "    print(\"G) Salir\")\n",
    "\n",
    "def seleccionarOpcion(opcion):\n",
    "    print()\n",
    "    opcion = opcion.upper()\n",
    "    if opcion == \"A\":\n",
    "        numero = int(input(\"Ingresa un numero:\"))\n",
    "        lista.append(numero)\n",
    "    elif opcion == \"B\":\n",
    "        posicion = int(input(\"Ingresa la posicion\"))\n",
    "        numero = int(input(\"Ingresa un numero:\"))\n",
    "        lista.insert(posicion, numero)\n",
    "    elif opcion == \"C\":\n",
    "        print(\"La longitud de la lista es de {0}:\".format(len(lista)))\n",
    "    elif opcion == \"D\":\n",
    "        numero = lista.pop()\n",
    "        print(\"Se borro el numero {0}\".format(numero))\n",
    "    elif opcion == \"E\":\n",
    "        print(\"De la lista que numero desea borrar\", lista)\n",
    "        numero = int(input(\"Ingresa el numero a borrar: \"))\n",
    "        print(\"Se borro {0}\".format(numero))\n",
    "    elif opcion == \"F\":\n",
    "        numero = int(input(\"Ingresa el numero que desea contar: \"))\n",
    "        total = lista.count(numero)\n",
    "        print(\"En la lista {0} se repite {1}\".format(numero, total))\n",
    "    elif opcion == \"G\":\n",
    "        print(\"Gracias por usar el programa\")\n",
    "    else:\n",
    "        print(\"Esta opcion no es validad!!\")\n",
    "\n",
    "while True:\n",
    "    opcion = input(\"Ingresa una opcion A-G\")\n",
    "    seleccionarOpcion(opcion)\n",
    "    print(\"Lisa de datos\",lista)\n",
    "    if opcion.upper() == \"G\":\n",
    "      break\n"
   ]
  }
 ],
 "metadata": {
  "language_info": {
   "name": "python"
  },
  "orig_nbformat": 4
 },
 "nbformat": 4,
 "nbformat_minor": 2
}
